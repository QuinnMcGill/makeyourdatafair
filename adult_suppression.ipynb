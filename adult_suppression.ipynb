{
  "cells": [
    {
      "cell_type": "markdown",
      "metadata": {
        "colab_type": "text",
        "id": "view-in-github"
      },
      "source": [
        "<a href=\"https://colab.research.google.com/github/QuinnMcGill/makeyourdatafair/blob/feature%2Fcallum-suppression/adult_suppression.ipynb\" target=\"_parent\"><img src=\"https://colab.research.google.com/assets/colab-badge.svg\" alt=\"Open In Colab\"/></a>"
      ]
    },
    {
      "cell_type": "markdown",
      "metadata": {
        "id": "ZLote9tQsR-F"
      },
      "source": [
        "# Suppression Technique for Census Income Dataset"
      ]
    },
    {
      "cell_type": "markdown",
      "metadata": {
        "id": "KEBBW7LYsVoe"
      },
      "source": [
        "### Part 1: Install Dependencies"
      ]
    },
    {
      "cell_type": "code",
      "execution_count": 2,
      "metadata": {
        "colab": {
          "base_uri": "https://localhost:8080/"
        },
        "id": "cnF2QFKNsIq7",
        "outputId": "f33e9a27-b6cf-43dc-8e06-8bc314b042ea"
      },
      "outputs": [
        {
          "name": "stdout",
          "output_type": "stream",
          "text": [
            "Requirement already satisfied: gower in /Library/Frameworks/Python.framework/Versions/3.11/lib/python3.11/site-packages (0.1.2)\n",
            "Requirement already satisfied: aif360[all] in /Library/Frameworks/Python.framework/Versions/3.11/lib/python3.11/site-packages (0.6.1)\n",
            "Requirement already satisfied: numpy in /Library/Frameworks/Python.framework/Versions/3.11/lib/python3.11/site-packages (from gower) (1.26.4)\n",
            "Requirement already satisfied: scipy in /Library/Frameworks/Python.framework/Versions/3.11/lib/python3.11/site-packages (from gower) (1.15.2)\n",
            "Requirement already satisfied: pandas>=0.24.0 in /Library/Frameworks/Python.framework/Versions/3.11/lib/python3.11/site-packages (from aif360[all]) (2.2.3)\n",
            "Requirement already satisfied: scikit-learn>=1.0 in /Library/Frameworks/Python.framework/Versions/3.11/lib/python3.11/site-packages (from aif360[all]) (1.6.1)\n",
            "Requirement already satisfied: matplotlib in /Library/Frameworks/Python.framework/Versions/3.11/lib/python3.11/site-packages (from aif360[all]) (3.7.2)\n",
            "Requirement already satisfied: skorch in /Library/Frameworks/Python.framework/Versions/3.11/lib/python3.11/site-packages (from aif360[all]) (1.1.0)\n",
            "Requirement already satisfied: jupyter in /Library/Frameworks/Python.framework/Versions/3.11/lib/python3.11/site-packages (from aif360[all]) (1.1.1)\n",
            "Requirement already satisfied: sphinx-rtd-theme in /Library/Frameworks/Python.framework/Versions/3.11/lib/python3.11/site-packages (from aif360[all]) (3.0.2)\n",
            "Requirement already satisfied: igraph[plotting] in /Library/Frameworks/Python.framework/Versions/3.11/lib/python3.11/site-packages (from aif360[all]) (0.11.8)\n",
            "Requirement already satisfied: lime in /Library/Frameworks/Python.framework/Versions/3.11/lib/python3.11/site-packages (from aif360[all]) (0.2.0.1)\n",
            "Requirement already satisfied: tqdm in /Library/Frameworks/Python.framework/Versions/3.11/lib/python3.11/site-packages (from aif360[all]) (4.67.1)\n",
            "Requirement already satisfied: fairlearn~=0.7 in /Library/Frameworks/Python.framework/Versions/3.11/lib/python3.11/site-packages (from aif360[all]) (0.12.0)\n",
            "Requirement already satisfied: colorama in /Library/Frameworks/Python.framework/Versions/3.11/lib/python3.11/site-packages (from aif360[all]) (0.4.6)\n",
            "Requirement already satisfied: tensorflow>=1.13.1 in /Library/Frameworks/Python.framework/Versions/3.11/lib/python3.11/site-packages (from aif360[all]) (2.18.0)\n",
            "Requirement already satisfied: sphinx in /Library/Frameworks/Python.framework/Versions/3.11/lib/python3.11/site-packages (from aif360[all]) (8.2.3)\n",
            "Requirement already satisfied: mlxtend in /Library/Frameworks/Python.framework/Versions/3.11/lib/python3.11/site-packages (from aif360[all]) (0.23.4)\n",
            "Requirement already satisfied: inFairness>=0.2.2 in /Library/Frameworks/Python.framework/Versions/3.11/lib/python3.11/site-packages (from aif360[all]) (0.2.3)\n",
            "Requirement already satisfied: pytest-cov>=2.8.1 in /Library/Frameworks/Python.framework/Versions/3.11/lib/python3.11/site-packages (from aif360[all]) (6.1.0)\n",
            "Requirement already satisfied: ipympl in /Library/Frameworks/Python.framework/Versions/3.11/lib/python3.11/site-packages (from aif360[all]) (0.9.7)\n",
            "Requirement already satisfied: torch in /Library/Frameworks/Python.framework/Versions/3.11/lib/python3.11/site-packages (from aif360[all]) (2.6.0)\n",
            "Requirement already satisfied: jinja2>3.1.0 in /Users/sunveerkhunkhun/Library/Python/3.11/lib/python/site-packages (from aif360[all]) (3.1.6)\n",
            "Requirement already satisfied: adversarial-robustness-toolbox>=1.0.0 in /Library/Frameworks/Python.framework/Versions/3.11/lib/python3.11/site-packages (from aif360[all]) (1.19.1)\n",
            "Requirement already satisfied: BlackBoxAuditing in /Library/Frameworks/Python.framework/Versions/3.11/lib/python3.11/site-packages (from aif360[all]) (0.1.54)\n",
            "Requirement already satisfied: seaborn in /Library/Frameworks/Python.framework/Versions/3.11/lib/python3.11/site-packages (from aif360[all]) (0.13.2)\n",
            "Requirement already satisfied: rpy2 in /Library/Frameworks/Python.framework/Versions/3.11/lib/python3.11/site-packages (from aif360[all]) (3.5.17)\n",
            "Requirement already satisfied: lightgbm in /Library/Frameworks/Python.framework/Versions/3.11/lib/python3.11/site-packages (from aif360[all]) (4.6.0)\n",
            "Requirement already satisfied: pytest>=3.5 in /Library/Frameworks/Python.framework/Versions/3.11/lib/python3.11/site-packages (from aif360[all]) (8.3.5)\n",
            "Requirement already satisfied: pot in /Library/Frameworks/Python.framework/Versions/3.11/lib/python3.11/site-packages (from aif360[all]) (0.9.5)\n",
            "Requirement already satisfied: cvxpy>=1.0 in /Library/Frameworks/Python.framework/Versions/3.11/lib/python3.11/site-packages (from aif360[all]) (1.6.4)\n",
            "Requirement already satisfied: six in /Users/sunveerkhunkhun/Library/Python/3.11/lib/python/site-packages (from adversarial-robustness-toolbox>=1.0.0->aif360[all]) (1.17.0)\n",
            "Requirement already satisfied: setuptools in /Library/Frameworks/Python.framework/Versions/3.11/lib/python3.11/site-packages (from adversarial-robustness-toolbox>=1.0.0->aif360[all]) (65.5.0)\n",
            "Requirement already satisfied: osqp>=0.6.2 in /Library/Frameworks/Python.framework/Versions/3.11/lib/python3.11/site-packages (from cvxpy>=1.0->aif360[all]) (1.0.3)\n",
            "Requirement already satisfied: clarabel>=0.5.0 in /Library/Frameworks/Python.framework/Versions/3.11/lib/python3.11/site-packages (from cvxpy>=1.0->aif360[all]) (0.10.0)\n",
            "Requirement already satisfied: scs>=3.2.4.post1 in /Library/Frameworks/Python.framework/Versions/3.11/lib/python3.11/site-packages (from cvxpy>=1.0->aif360[all]) (3.2.7.post2)\n",
            "Requirement already satisfied: MarkupSafe>=2.0 in /Users/sunveerkhunkhun/Library/Python/3.11/lib/python/site-packages (from jinja2>3.1.0->aif360[all]) (3.0.2)\n",
            "Requirement already satisfied: python-dateutil>=2.8.2 in /Users/sunveerkhunkhun/Library/Python/3.11/lib/python/site-packages (from pandas>=0.24.0->aif360[all]) (2.9.0.post0)\n",
            "Requirement already satisfied: pytz>=2020.1 in /Library/Frameworks/Python.framework/Versions/3.11/lib/python3.11/site-packages (from pandas>=0.24.0->aif360[all]) (2025.1)\n",
            "Requirement already satisfied: tzdata>=2022.7 in /Library/Frameworks/Python.framework/Versions/3.11/lib/python3.11/site-packages (from pandas>=0.24.0->aif360[all]) (2025.1)\n",
            "Requirement already satisfied: iniconfig in /Library/Frameworks/Python.framework/Versions/3.11/lib/python3.11/site-packages (from pytest>=3.5->aif360[all]) (2.1.0)\n",
            "Requirement already satisfied: packaging in /Users/sunveerkhunkhun/Library/Python/3.11/lib/python/site-packages (from pytest>=3.5->aif360[all]) (24.2)\n",
            "Requirement already satisfied: pluggy<2,>=1.5 in /Library/Frameworks/Python.framework/Versions/3.11/lib/python3.11/site-packages (from pytest>=3.5->aif360[all]) (1.5.0)\n",
            "Requirement already satisfied: coverage>=7.5 in /Library/Frameworks/Python.framework/Versions/3.11/lib/python3.11/site-packages (from coverage[toml]>=7.5->pytest-cov>=2.8.1->aif360[all]) (7.8.0)\n",
            "Requirement already satisfied: joblib>=1.2.0 in /Library/Frameworks/Python.framework/Versions/3.11/lib/python3.11/site-packages (from scikit-learn>=1.0->aif360[all]) (1.4.2)\n",
            "Requirement already satisfied: threadpoolctl>=3.1.0 in /Library/Frameworks/Python.framework/Versions/3.11/lib/python3.11/site-packages (from scikit-learn>=1.0->aif360[all]) (3.5.0)\n",
            "Requirement already satisfied: absl-py>=1.0.0 in /Library/Frameworks/Python.framework/Versions/3.11/lib/python3.11/site-packages (from tensorflow>=1.13.1->aif360[all]) (2.1.0)\n",
            "Requirement already satisfied: astunparse>=1.6.0 in /Library/Frameworks/Python.framework/Versions/3.11/lib/python3.11/site-packages (from tensorflow>=1.13.1->aif360[all]) (1.6.3)\n",
            "Requirement already satisfied: flatbuffers>=24.3.25 in /Library/Frameworks/Python.framework/Versions/3.11/lib/python3.11/site-packages (from tensorflow>=1.13.1->aif360[all]) (25.2.10)\n",
            "Requirement already satisfied: gast!=0.5.0,!=0.5.1,!=0.5.2,>=0.2.1 in /Library/Frameworks/Python.framework/Versions/3.11/lib/python3.11/site-packages (from tensorflow>=1.13.1->aif360[all]) (0.6.0)\n",
            "Requirement already satisfied: google-pasta>=0.1.1 in /Library/Frameworks/Python.framework/Versions/3.11/lib/python3.11/site-packages (from tensorflow>=1.13.1->aif360[all]) (0.2.0)\n",
            "Requirement already satisfied: libclang>=13.0.0 in /Library/Frameworks/Python.framework/Versions/3.11/lib/python3.11/site-packages (from tensorflow>=1.13.1->aif360[all]) (18.1.1)\n",
            "Requirement already satisfied: opt-einsum>=2.3.2 in /Library/Frameworks/Python.framework/Versions/3.11/lib/python3.11/site-packages (from tensorflow>=1.13.1->aif360[all]) (3.4.0)\n",
            "Requirement already satisfied: protobuf!=4.21.0,!=4.21.1,!=4.21.2,!=4.21.3,!=4.21.4,!=4.21.5,<6.0.0dev,>=3.20.3 in /Library/Frameworks/Python.framework/Versions/3.11/lib/python3.11/site-packages (from tensorflow>=1.13.1->aif360[all]) (5.29.3)\n",
            "Requirement already satisfied: requests<3,>=2.21.0 in /Users/sunveerkhunkhun/Library/Python/3.11/lib/python/site-packages (from tensorflow>=1.13.1->aif360[all]) (2.32.3)\n",
            "Requirement already satisfied: termcolor>=1.1.0 in /Library/Frameworks/Python.framework/Versions/3.11/lib/python3.11/site-packages (from tensorflow>=1.13.1->aif360[all]) (2.5.0)\n",
            "Requirement already satisfied: typing-extensions>=3.6.6 in /Users/sunveerkhunkhun/Library/Python/3.11/lib/python/site-packages (from tensorflow>=1.13.1->aif360[all]) (4.12.2)\n",
            "Requirement already satisfied: wrapt>=1.11.0 in /Library/Frameworks/Python.framework/Versions/3.11/lib/python3.11/site-packages (from tensorflow>=1.13.1->aif360[all]) (1.17.2)\n",
            "Requirement already satisfied: grpcio<2.0,>=1.24.3 in /Library/Frameworks/Python.framework/Versions/3.11/lib/python3.11/site-packages (from tensorflow>=1.13.1->aif360[all]) (1.70.0)\n",
            "Requirement already satisfied: tensorboard<2.19,>=2.18 in /Library/Frameworks/Python.framework/Versions/3.11/lib/python3.11/site-packages (from tensorflow>=1.13.1->aif360[all]) (2.18.0)\n",
            "Requirement already satisfied: keras>=3.5.0 in /Library/Frameworks/Python.framework/Versions/3.11/lib/python3.11/site-packages (from tensorflow>=1.13.1->aif360[all]) (3.9.0)\n",
            "Requirement already satisfied: h5py>=3.11.0 in /Library/Frameworks/Python.framework/Versions/3.11/lib/python3.11/site-packages (from tensorflow>=1.13.1->aif360[all]) (3.13.0)\n",
            "Requirement already satisfied: ml-dtypes<0.5.0,>=0.4.0 in /Library/Frameworks/Python.framework/Versions/3.11/lib/python3.11/site-packages (from tensorflow>=1.13.1->aif360[all]) (0.4.1)\n",
            "Requirement already satisfied: tensorflow-io-gcs-filesystem>=0.23.1 in /Library/Frameworks/Python.framework/Versions/3.11/lib/python3.11/site-packages (from tensorflow>=1.13.1->aif360[all]) (0.37.1)\n",
            "Requirement already satisfied: filelock in /Library/Frameworks/Python.framework/Versions/3.11/lib/python3.11/site-packages (from torch->aif360[all]) (3.17.0)\n",
            "Requirement already satisfied: networkx in /Library/Frameworks/Python.framework/Versions/3.11/lib/python3.11/site-packages (from torch->aif360[all]) (3.4.2)\n",
            "Requirement already satisfied: fsspec in /Library/Frameworks/Python.framework/Versions/3.11/lib/python3.11/site-packages (from torch->aif360[all]) (2024.12.0)\n",
            "Requirement already satisfied: sympy==1.13.1 in /Library/Frameworks/Python.framework/Versions/3.11/lib/python3.11/site-packages (from torch->aif360[all]) (1.13.1)\n",
            "Requirement already satisfied: mpmath<1.4,>=1.1.0 in /Library/Frameworks/Python.framework/Versions/3.11/lib/python3.11/site-packages (from sympy==1.13.1->torch->aif360[all]) (1.3.0)\n",
            "Requirement already satisfied: texttable>=1.6.2 in /Library/Frameworks/Python.framework/Versions/3.11/lib/python3.11/site-packages (from igraph[plotting]; extra == \"all\"->aif360[all]) (1.7.0)\n",
            "Requirement already satisfied: cairocffi>=1.2.0 in /Library/Frameworks/Python.framework/Versions/3.11/lib/python3.11/site-packages (from igraph[plotting]; extra == \"all\"->aif360[all]) (1.7.1)\n",
            "Requirement already satisfied: ipython<10 in /Users/sunveerkhunkhun/Library/Python/3.11/lib/python/site-packages (from ipympl->aif360[all]) (8.12.3)\n",
            "Requirement already satisfied: ipywidgets<9,>=7.6.0 in /Library/Frameworks/Python.framework/Versions/3.11/lib/python3.11/site-packages (from ipympl->aif360[all]) (8.1.5)\n",
            "Requirement already satisfied: pillow in /Library/Frameworks/Python.framework/Versions/3.11/lib/python3.11/site-packages (from ipympl->aif360[all]) (11.1.0)\n",
            "Requirement already satisfied: traitlets<6 in /Users/sunveerkhunkhun/Library/Python/3.11/lib/python/site-packages (from ipympl->aif360[all]) (5.14.3)\n",
            "Requirement already satisfied: contourpy>=1.0.1 in /Library/Frameworks/Python.framework/Versions/3.11/lib/python3.11/site-packages (from matplotlib->aif360[all]) (1.3.1)\n",
            "Requirement already satisfied: cycler>=0.10 in /Library/Frameworks/Python.framework/Versions/3.11/lib/python3.11/site-packages (from matplotlib->aif360[all]) (0.12.1)\n",
            "Requirement already satisfied: fonttools>=4.22.0 in /Library/Frameworks/Python.framework/Versions/3.11/lib/python3.11/site-packages (from matplotlib->aif360[all]) (4.56.0)\n",
            "Requirement already satisfied: kiwisolver>=1.0.1 in /Library/Frameworks/Python.framework/Versions/3.11/lib/python3.11/site-packages (from matplotlib->aif360[all]) (1.4.8)\n",
            "Requirement already satisfied: pyparsing<3.1,>=2.3.1 in /Library/Frameworks/Python.framework/Versions/3.11/lib/python3.11/site-packages (from matplotlib->aif360[all]) (3.0.9)\n",
            "Requirement already satisfied: notebook in /Library/Frameworks/Python.framework/Versions/3.11/lib/python3.11/site-packages (from jupyter->aif360[all]) (7.3.3)\n",
            "Requirement already satisfied: jupyter-console in /Library/Frameworks/Python.framework/Versions/3.11/lib/python3.11/site-packages (from jupyter->aif360[all]) (6.6.3)\n",
            "Requirement already satisfied: nbconvert in /Users/sunveerkhunkhun/Library/Python/3.11/lib/python/site-packages (from jupyter->aif360[all]) (7.16.6)\n",
            "Requirement already satisfied: ipykernel in /Library/Frameworks/Python.framework/Versions/3.11/lib/python3.11/site-packages (from jupyter->aif360[all]) (6.29.5)\n",
            "Requirement already satisfied: jupyterlab in /Library/Frameworks/Python.framework/Versions/3.11/lib/python3.11/site-packages (from jupyter->aif360[all]) (4.3.6)\n",
            "Requirement already satisfied: scikit-image>=0.12 in /Library/Frameworks/Python.framework/Versions/3.11/lib/python3.11/site-packages (from lime->aif360[all]) (0.25.2)\n",
            "Requirement already satisfied: cffi>=1.15.1 in /Library/Frameworks/Python.framework/Versions/3.11/lib/python3.11/site-packages (from rpy2->aif360[all]) (1.17.1)\n",
            "Requirement already satisfied: tzlocal in /Library/Frameworks/Python.framework/Versions/3.11/lib/python3.11/site-packages (from rpy2->aif360[all]) (5.3.1)\n",
            "Requirement already satisfied: tabulate>=0.7.7 in /Library/Frameworks/Python.framework/Versions/3.11/lib/python3.11/site-packages (from skorch->aif360[all]) (0.9.0)\n",
            "Requirement already satisfied: sphinxcontrib-applehelp>=1.0.7 in /Library/Frameworks/Python.framework/Versions/3.11/lib/python3.11/site-packages (from sphinx->aif360[all]) (2.0.0)\n",
            "Requirement already satisfied: sphinxcontrib-devhelp>=1.0.6 in /Library/Frameworks/Python.framework/Versions/3.11/lib/python3.11/site-packages (from sphinx->aif360[all]) (2.0.0)\n",
            "Requirement already satisfied: sphinxcontrib-htmlhelp>=2.0.6 in /Library/Frameworks/Python.framework/Versions/3.11/lib/python3.11/site-packages (from sphinx->aif360[all]) (2.1.0)\n",
            "Requirement already satisfied: sphinxcontrib-jsmath>=1.0.1 in /Library/Frameworks/Python.framework/Versions/3.11/lib/python3.11/site-packages (from sphinx->aif360[all]) (1.0.1)\n",
            "Requirement already satisfied: sphinxcontrib-qthelp>=1.0.6 in /Library/Frameworks/Python.framework/Versions/3.11/lib/python3.11/site-packages (from sphinx->aif360[all]) (2.0.0)\n",
            "Requirement already satisfied: sphinxcontrib-serializinghtml>=1.1.9 in /Library/Frameworks/Python.framework/Versions/3.11/lib/python3.11/site-packages (from sphinx->aif360[all]) (2.0.0)\n",
            "Requirement already satisfied: Pygments>=2.17 in /Users/sunveerkhunkhun/Library/Python/3.11/lib/python/site-packages (from sphinx->aif360[all]) (2.19.1)\n",
            "Requirement already satisfied: docutils<0.22,>=0.20 in /Library/Frameworks/Python.framework/Versions/3.11/lib/python3.11/site-packages (from sphinx->aif360[all]) (0.21.2)\n",
            "Requirement already satisfied: snowballstemmer>=2.2 in /Library/Frameworks/Python.framework/Versions/3.11/lib/python3.11/site-packages (from sphinx->aif360[all]) (2.2.0)\n",
            "Requirement already satisfied: babel>=2.13 in /Library/Frameworks/Python.framework/Versions/3.11/lib/python3.11/site-packages (from sphinx->aif360[all]) (2.17.0)\n",
            "Requirement already satisfied: alabaster>=0.7.14 in /Library/Frameworks/Python.framework/Versions/3.11/lib/python3.11/site-packages (from sphinx->aif360[all]) (1.0.0)\n",
            "Requirement already satisfied: imagesize>=1.3 in /Library/Frameworks/Python.framework/Versions/3.11/lib/python3.11/site-packages (from sphinx->aif360[all]) (1.4.1)\n",
            "Requirement already satisfied: roman-numerals-py>=1.0.0 in /Library/Frameworks/Python.framework/Versions/3.11/lib/python3.11/site-packages (from sphinx->aif360[all]) (3.1.0)\n",
            "Requirement already satisfied: sphinxcontrib-jquery<5,>=4 in /Library/Frameworks/Python.framework/Versions/3.11/lib/python3.11/site-packages (from sphinx-rtd-theme->aif360[all]) (4.1)\n",
            "Requirement already satisfied: wheel<1.0,>=0.23.0 in /Library/Frameworks/Python.framework/Versions/3.11/lib/python3.11/site-packages (from astunparse>=1.6.0->tensorflow>=1.13.1->aif360[all]) (0.45.1)\n",
            "Requirement already satisfied: pycparser in /Library/Frameworks/Python.framework/Versions/3.11/lib/python3.11/site-packages (from cffi>=1.15.1->rpy2->aif360[all]) (2.22)\n",
            "Requirement already satisfied: backcall in /Users/sunveerkhunkhun/Library/Python/3.11/lib/python/site-packages (from ipython<10->ipympl->aif360[all]) (0.2.0)\n",
            "Requirement already satisfied: decorator in /Users/sunveerkhunkhun/Library/Python/3.11/lib/python/site-packages (from ipython<10->ipympl->aif360[all]) (5.2.1)\n",
            "Requirement already satisfied: jedi>=0.16 in /Users/sunveerkhunkhun/Library/Python/3.11/lib/python/site-packages (from ipython<10->ipympl->aif360[all]) (0.19.2)\n",
            "Requirement already satisfied: matplotlib-inline in /Users/sunveerkhunkhun/Library/Python/3.11/lib/python/site-packages (from ipython<10->ipympl->aif360[all]) (0.1.7)\n",
            "Requirement already satisfied: pickleshare in /Users/sunveerkhunkhun/Library/Python/3.11/lib/python/site-packages (from ipython<10->ipympl->aif360[all]) (0.7.5)\n",
            "Requirement already satisfied: prompt-toolkit!=3.0.37,<3.1.0,>=3.0.30 in /Users/sunveerkhunkhun/Library/Python/3.11/lib/python/site-packages (from ipython<10->ipympl->aif360[all]) (3.0.50)\n",
            "Requirement already satisfied: stack-data in /Users/sunveerkhunkhun/Library/Python/3.11/lib/python/site-packages (from ipython<10->ipympl->aif360[all]) (0.6.3)\n",
            "Requirement already satisfied: pexpect>4.3 in /Users/sunveerkhunkhun/Library/Python/3.11/lib/python/site-packages (from ipython<10->ipympl->aif360[all]) (4.9.0)\n",
            "Requirement already satisfied: appnope in /Users/sunveerkhunkhun/Library/Python/3.11/lib/python/site-packages (from ipython<10->ipympl->aif360[all]) (0.1.4)\n",
            "Requirement already satisfied: comm>=0.1.3 in /Library/Frameworks/Python.framework/Versions/3.11/lib/python3.11/site-packages (from ipywidgets<9,>=7.6.0->ipympl->aif360[all]) (0.2.2)\n",
            "Requirement already satisfied: widgetsnbextension~=4.0.12 in /Library/Frameworks/Python.framework/Versions/3.11/lib/python3.11/site-packages (from ipywidgets<9,>=7.6.0->ipympl->aif360[all]) (4.0.13)\n",
            "Requirement already satisfied: jupyterlab-widgets~=3.0.12 in /Library/Frameworks/Python.framework/Versions/3.11/lib/python3.11/site-packages (from ipywidgets<9,>=7.6.0->ipympl->aif360[all]) (3.0.13)\n",
            "Requirement already satisfied: rich in /Library/Frameworks/Python.framework/Versions/3.11/lib/python3.11/site-packages (from keras>=3.5.0->tensorflow>=1.13.1->aif360[all]) (13.9.4)\n",
            "Requirement already satisfied: namex in /Library/Frameworks/Python.framework/Versions/3.11/lib/python3.11/site-packages (from keras>=3.5.0->tensorflow>=1.13.1->aif360[all]) (0.0.8)\n",
            "Requirement already satisfied: optree in /Library/Frameworks/Python.framework/Versions/3.11/lib/python3.11/site-packages (from keras>=3.5.0->tensorflow>=1.13.1->aif360[all]) (0.14.1)\n",
            "Requirement already satisfied: charset-normalizer<4,>=2 in /Users/sunveerkhunkhun/Library/Python/3.11/lib/python/site-packages (from requests<3,>=2.21.0->tensorflow>=1.13.1->aif360[all]) (3.4.1)\n",
            "Requirement already satisfied: idna<4,>=2.5 in /Users/sunveerkhunkhun/Library/Python/3.11/lib/python/site-packages (from requests<3,>=2.21.0->tensorflow>=1.13.1->aif360[all]) (3.10)\n",
            "Requirement already satisfied: urllib3<3,>=1.21.1 in /Users/sunveerkhunkhun/Library/Python/3.11/lib/python/site-packages (from requests<3,>=2.21.0->tensorflow>=1.13.1->aif360[all]) (2.3.0)\n",
            "Requirement already satisfied: certifi>=2017.4.17 in /Users/sunveerkhunkhun/Library/Python/3.11/lib/python/site-packages (from requests<3,>=2.21.0->tensorflow>=1.13.1->aif360[all]) (2025.1.31)\n",
            "Requirement already satisfied: imageio!=2.35.0,>=2.33 in /Library/Frameworks/Python.framework/Versions/3.11/lib/python3.11/site-packages (from scikit-image>=0.12->lime->aif360[all]) (2.37.0)\n",
            "Requirement already satisfied: tifffile>=2022.8.12 in /Library/Frameworks/Python.framework/Versions/3.11/lib/python3.11/site-packages (from scikit-image>=0.12->lime->aif360[all]) (2025.3.30)\n",
            "Requirement already satisfied: lazy-loader>=0.4 in /Library/Frameworks/Python.framework/Versions/3.11/lib/python3.11/site-packages (from scikit-image>=0.12->lime->aif360[all]) (0.4)\n",
            "Requirement already satisfied: markdown>=2.6.8 in /Library/Frameworks/Python.framework/Versions/3.11/lib/python3.11/site-packages (from tensorboard<2.19,>=2.18->tensorflow>=1.13.1->aif360[all]) (3.7)\n",
            "Requirement already satisfied: tensorboard-data-server<0.8.0,>=0.7.0 in /Library/Frameworks/Python.framework/Versions/3.11/lib/python3.11/site-packages (from tensorboard<2.19,>=2.18->tensorflow>=1.13.1->aif360[all]) (0.7.2)\n",
            "Requirement already satisfied: werkzeug>=1.0.1 in /Library/Frameworks/Python.framework/Versions/3.11/lib/python3.11/site-packages (from tensorboard<2.19,>=2.18->tensorflow>=1.13.1->aif360[all]) (3.1.3)\n",
            "Requirement already satisfied: debugpy>=1.6.5 in /Library/Frameworks/Python.framework/Versions/3.11/lib/python3.11/site-packages (from ipykernel->jupyter->aif360[all]) (1.8.13)\n",
            "Requirement already satisfied: jupyter-client>=6.1.12 in /Users/sunveerkhunkhun/Library/Python/3.11/lib/python/site-packages (from ipykernel->jupyter->aif360[all]) (8.6.3)\n",
            "Requirement already satisfied: jupyter-core!=5.0.*,>=4.12 in /Users/sunveerkhunkhun/Library/Python/3.11/lib/python/site-packages (from ipykernel->jupyter->aif360[all]) (5.7.2)\n",
            "Requirement already satisfied: nest-asyncio in /Library/Frameworks/Python.framework/Versions/3.11/lib/python3.11/site-packages (from ipykernel->jupyter->aif360[all]) (1.6.0)\n",
            "Requirement already satisfied: psutil in /Library/Frameworks/Python.framework/Versions/3.11/lib/python3.11/site-packages (from ipykernel->jupyter->aif360[all]) (7.0.0)\n",
            "Requirement already satisfied: pyzmq>=24 in /Users/sunveerkhunkhun/Library/Python/3.11/lib/python/site-packages (from ipykernel->jupyter->aif360[all]) (26.2.1)\n",
            "Requirement already satisfied: tornado>=6.1 in /Users/sunveerkhunkhun/Library/Python/3.11/lib/python/site-packages (from ipykernel->jupyter->aif360[all]) (6.4.2)\n",
            "Requirement already satisfied: async-lru>=1.0.0 in /Library/Frameworks/Python.framework/Versions/3.11/lib/python3.11/site-packages (from jupyterlab->jupyter->aif360[all]) (2.0.5)\n",
            "Requirement already satisfied: httpx>=0.25.0 in /Library/Frameworks/Python.framework/Versions/3.11/lib/python3.11/site-packages (from jupyterlab->jupyter->aif360[all]) (0.28.1)\n",
            "Requirement already satisfied: jupyter-lsp>=2.0.0 in /Library/Frameworks/Python.framework/Versions/3.11/lib/python3.11/site-packages (from jupyterlab->jupyter->aif360[all]) (2.2.5)\n",
            "Requirement already satisfied: jupyter-server<3,>=2.4.0 in /Library/Frameworks/Python.framework/Versions/3.11/lib/python3.11/site-packages (from jupyterlab->jupyter->aif360[all]) (2.15.0)\n",
            "Requirement already satisfied: jupyterlab-server<3,>=2.27.1 in /Library/Frameworks/Python.framework/Versions/3.11/lib/python3.11/site-packages (from jupyterlab->jupyter->aif360[all]) (2.27.3)\n",
            "Requirement already satisfied: notebook-shim>=0.2 in /Library/Frameworks/Python.framework/Versions/3.11/lib/python3.11/site-packages (from jupyterlab->jupyter->aif360[all]) (0.2.4)\n",
            "Requirement already satisfied: beautifulsoup4 in /Users/sunveerkhunkhun/Library/Python/3.11/lib/python/site-packages (from nbconvert->jupyter->aif360[all]) (4.13.3)\n",
            "Requirement already satisfied: bleach!=5.0.0 in /Users/sunveerkhunkhun/Library/Python/3.11/lib/python/site-packages (from bleach[css]!=5.0.0->nbconvert->jupyter->aif360[all]) (6.2.0)\n",
            "Requirement already satisfied: defusedxml in /Users/sunveerkhunkhun/Library/Python/3.11/lib/python/site-packages (from nbconvert->jupyter->aif360[all]) (0.7.1)\n",
            "Requirement already satisfied: jupyterlab-pygments in /Users/sunveerkhunkhun/Library/Python/3.11/lib/python/site-packages (from nbconvert->jupyter->aif360[all]) (0.3.0)\n",
            "Requirement already satisfied: mistune<4,>=2.0.3 in /Users/sunveerkhunkhun/Library/Python/3.11/lib/python/site-packages (from nbconvert->jupyter->aif360[all]) (3.1.2)\n",
            "Requirement already satisfied: nbclient>=0.5.0 in /Users/sunveerkhunkhun/Library/Python/3.11/lib/python/site-packages (from nbconvert->jupyter->aif360[all]) (0.10.2)\n",
            "Requirement already satisfied: nbformat>=5.7 in /Users/sunveerkhunkhun/Library/Python/3.11/lib/python/site-packages (from nbconvert->jupyter->aif360[all]) (5.10.4)\n",
            "Requirement already satisfied: pandocfilters>=1.4.1 in /Users/sunveerkhunkhun/Library/Python/3.11/lib/python/site-packages (from nbconvert->jupyter->aif360[all]) (1.5.1)\n",
            "Requirement already satisfied: webencodings in /Users/sunveerkhunkhun/Library/Python/3.11/lib/python/site-packages (from bleach!=5.0.0->bleach[css]!=5.0.0->nbconvert->jupyter->aif360[all]) (0.5.1)\n",
            "Requirement already satisfied: tinycss2<1.5,>=1.1.0 in /Users/sunveerkhunkhun/Library/Python/3.11/lib/python/site-packages (from bleach[css]!=5.0.0->nbconvert->jupyter->aif360[all]) (1.4.0)\n",
            "Requirement already satisfied: anyio in /Library/Frameworks/Python.framework/Versions/3.11/lib/python3.11/site-packages (from httpx>=0.25.0->jupyterlab->jupyter->aif360[all]) (4.8.0)\n",
            "Requirement already satisfied: httpcore==1.* in /Library/Frameworks/Python.framework/Versions/3.11/lib/python3.11/site-packages (from httpx>=0.25.0->jupyterlab->jupyter->aif360[all]) (1.0.7)\n",
            "Requirement already satisfied: h11<0.15,>=0.13 in /Library/Frameworks/Python.framework/Versions/3.11/lib/python3.11/site-packages (from httpcore==1.*->httpx>=0.25.0->jupyterlab->jupyter->aif360[all]) (0.14.0)\n",
            "Requirement already satisfied: parso<0.9.0,>=0.8.4 in /Users/sunveerkhunkhun/Library/Python/3.11/lib/python/site-packages (from jedi>=0.16->ipython<10->ipympl->aif360[all]) (0.8.4)\n",
            "Requirement already satisfied: platformdirs>=2.5 in /Users/sunveerkhunkhun/Library/Python/3.11/lib/python/site-packages (from jupyter-core!=5.0.*,>=4.12->ipykernel->jupyter->aif360[all]) (4.3.6)\n",
            "Requirement already satisfied: argon2-cffi>=21.1 in /Library/Frameworks/Python.framework/Versions/3.11/lib/python3.11/site-packages (from jupyter-server<3,>=2.4.0->jupyterlab->jupyter->aif360[all]) (23.1.0)\n",
            "Requirement already satisfied: jupyter-events>=0.11.0 in /Library/Frameworks/Python.framework/Versions/3.11/lib/python3.11/site-packages (from jupyter-server<3,>=2.4.0->jupyterlab->jupyter->aif360[all]) (0.12.0)\n",
            "Requirement already satisfied: jupyter-server-terminals>=0.4.4 in /Library/Frameworks/Python.framework/Versions/3.11/lib/python3.11/site-packages (from jupyter-server<3,>=2.4.0->jupyterlab->jupyter->aif360[all]) (0.5.3)\n",
            "Requirement already satisfied: overrides>=5.0 in /Library/Frameworks/Python.framework/Versions/3.11/lib/python3.11/site-packages (from jupyter-server<3,>=2.4.0->jupyterlab->jupyter->aif360[all]) (7.7.0)\n",
            "Requirement already satisfied: prometheus-client>=0.9 in /Library/Frameworks/Python.framework/Versions/3.11/lib/python3.11/site-packages (from jupyter-server<3,>=2.4.0->jupyterlab->jupyter->aif360[all]) (0.21.1)\n",
            "Requirement already satisfied: send2trash>=1.8.2 in /Library/Frameworks/Python.framework/Versions/3.11/lib/python3.11/site-packages (from jupyter-server<3,>=2.4.0->jupyterlab->jupyter->aif360[all]) (1.8.3)\n",
            "Requirement already satisfied: terminado>=0.8.3 in /Library/Frameworks/Python.framework/Versions/3.11/lib/python3.11/site-packages (from jupyter-server<3,>=2.4.0->jupyterlab->jupyter->aif360[all]) (0.18.1)\n",
            "Requirement already satisfied: websocket-client>=1.7 in /Library/Frameworks/Python.framework/Versions/3.11/lib/python3.11/site-packages (from jupyter-server<3,>=2.4.0->jupyterlab->jupyter->aif360[all]) (1.8.0)\n",
            "Requirement already satisfied: json5>=0.9.0 in /Library/Frameworks/Python.framework/Versions/3.11/lib/python3.11/site-packages (from jupyterlab-server<3,>=2.27.1->jupyterlab->jupyter->aif360[all]) (0.10.0)\n",
            "Requirement already satisfied: jsonschema>=4.18.0 in /Users/sunveerkhunkhun/Library/Python/3.11/lib/python/site-packages (from jupyterlab-server<3,>=2.27.1->jupyterlab->jupyter->aif360[all]) (4.23.0)\n",
            "Requirement already satisfied: fastjsonschema>=2.15 in /Users/sunveerkhunkhun/Library/Python/3.11/lib/python/site-packages (from nbformat>=5.7->nbconvert->jupyter->aif360[all]) (2.21.1)\n",
            "Requirement already satisfied: ptyprocess>=0.5 in /Users/sunveerkhunkhun/Library/Python/3.11/lib/python/site-packages (from pexpect>4.3->ipython<10->ipympl->aif360[all]) (0.7.0)\n",
            "Requirement already satisfied: wcwidth in /Users/sunveerkhunkhun/Library/Python/3.11/lib/python/site-packages (from prompt-toolkit!=3.0.37,<3.1.0,>=3.0.30->ipython<10->ipympl->aif360[all]) (0.2.13)\n",
            "Requirement already satisfied: soupsieve>1.2 in /Users/sunveerkhunkhun/Library/Python/3.11/lib/python/site-packages (from beautifulsoup4->nbconvert->jupyter->aif360[all]) (2.6)\n",
            "Requirement already satisfied: markdown-it-py>=2.2.0 in /Library/Frameworks/Python.framework/Versions/3.11/lib/python3.11/site-packages (from rich->keras>=3.5.0->tensorflow>=1.13.1->aif360[all]) (3.0.0)\n",
            "Requirement already satisfied: executing>=1.2.0 in /Users/sunveerkhunkhun/Library/Python/3.11/lib/python/site-packages (from stack-data->ipython<10->ipympl->aif360[all]) (2.2.0)\n",
            "Requirement already satisfied: asttokens>=2.1.0 in /Users/sunveerkhunkhun/Library/Python/3.11/lib/python/site-packages (from stack-data->ipython<10->ipympl->aif360[all]) (3.0.0)\n",
            "Requirement already satisfied: pure-eval in /Users/sunveerkhunkhun/Library/Python/3.11/lib/python/site-packages (from stack-data->ipython<10->ipympl->aif360[all]) (0.2.3)\n",
            "Requirement already satisfied: sniffio>=1.1 in /Library/Frameworks/Python.framework/Versions/3.11/lib/python3.11/site-packages (from anyio->httpx>=0.25.0->jupyterlab->jupyter->aif360[all]) (1.3.1)\n",
            "Requirement already satisfied: argon2-cffi-bindings in /Library/Frameworks/Python.framework/Versions/3.11/lib/python3.11/site-packages (from argon2-cffi>=21.1->jupyter-server<3,>=2.4.0->jupyterlab->jupyter->aif360[all]) (21.2.0)\n",
            "Requirement already satisfied: attrs>=22.2.0 in /Users/sunveerkhunkhun/Library/Python/3.11/lib/python/site-packages (from jsonschema>=4.18.0->jupyterlab-server<3,>=2.27.1->jupyterlab->jupyter->aif360[all]) (25.1.0)\n",
            "Requirement already satisfied: jsonschema-specifications>=2023.03.6 in /Users/sunveerkhunkhun/Library/Python/3.11/lib/python/site-packages (from jsonschema>=4.18.0->jupyterlab-server<3,>=2.27.1->jupyterlab->jupyter->aif360[all]) (2024.10.1)\n",
            "Requirement already satisfied: referencing>=0.28.4 in /Users/sunveerkhunkhun/Library/Python/3.11/lib/python/site-packages (from jsonschema>=4.18.0->jupyterlab-server<3,>=2.27.1->jupyterlab->jupyter->aif360[all]) (0.36.2)\n",
            "Requirement already satisfied: rpds-py>=0.7.1 in /Users/sunveerkhunkhun/Library/Python/3.11/lib/python/site-packages (from jsonschema>=4.18.0->jupyterlab-server<3,>=2.27.1->jupyterlab->jupyter->aif360[all]) (0.23.1)\n",
            "Requirement already satisfied: python-json-logger>=2.0.4 in /Library/Frameworks/Python.framework/Versions/3.11/lib/python3.11/site-packages (from jupyter-events>=0.11.0->jupyter-server<3,>=2.4.0->jupyterlab->jupyter->aif360[all]) (3.3.0)\n",
            "Requirement already satisfied: pyyaml>=5.3 in /Library/Frameworks/Python.framework/Versions/3.11/lib/python3.11/site-packages (from jupyter-events>=0.11.0->jupyter-server<3,>=2.4.0->jupyterlab->jupyter->aif360[all]) (6.0.2)\n",
            "Requirement already satisfied: rfc3339-validator in /Library/Frameworks/Python.framework/Versions/3.11/lib/python3.11/site-packages (from jupyter-events>=0.11.0->jupyter-server<3,>=2.4.0->jupyterlab->jupyter->aif360[all]) (0.1.4)\n",
            "Requirement already satisfied: rfc3986-validator>=0.1.1 in /Library/Frameworks/Python.framework/Versions/3.11/lib/python3.11/site-packages (from jupyter-events>=0.11.0->jupyter-server<3,>=2.4.0->jupyterlab->jupyter->aif360[all]) (0.1.1)\n",
            "Requirement already satisfied: mdurl~=0.1 in /Library/Frameworks/Python.framework/Versions/3.11/lib/python3.11/site-packages (from markdown-it-py>=2.2.0->rich->keras>=3.5.0->tensorflow>=1.13.1->aif360[all]) (0.1.2)\n",
            "Requirement already satisfied: fqdn in /Library/Frameworks/Python.framework/Versions/3.11/lib/python3.11/site-packages (from jsonschema[format-nongpl]>=4.18.0->jupyter-events>=0.11.0->jupyter-server<3,>=2.4.0->jupyterlab->jupyter->aif360[all]) (1.5.1)\n",
            "Requirement already satisfied: isoduration in /Library/Frameworks/Python.framework/Versions/3.11/lib/python3.11/site-packages (from jsonschema[format-nongpl]>=4.18.0->jupyter-events>=0.11.0->jupyter-server<3,>=2.4.0->jupyterlab->jupyter->aif360[all]) (20.11.0)\n",
            "Requirement already satisfied: jsonpointer>1.13 in /Library/Frameworks/Python.framework/Versions/3.11/lib/python3.11/site-packages (from jsonschema[format-nongpl]>=4.18.0->jupyter-events>=0.11.0->jupyter-server<3,>=2.4.0->jupyterlab->jupyter->aif360[all]) (3.0.0)\n",
            "Requirement already satisfied: uri-template in /Library/Frameworks/Python.framework/Versions/3.11/lib/python3.11/site-packages (from jsonschema[format-nongpl]>=4.18.0->jupyter-events>=0.11.0->jupyter-server<3,>=2.4.0->jupyterlab->jupyter->aif360[all]) (1.3.0)\n",
            "Requirement already satisfied: webcolors>=24.6.0 in /Library/Frameworks/Python.framework/Versions/3.11/lib/python3.11/site-packages (from jsonschema[format-nongpl]>=4.18.0->jupyter-events>=0.11.0->jupyter-server<3,>=2.4.0->jupyterlab->jupyter->aif360[all]) (24.11.1)\n",
            "Requirement already satisfied: arrow>=0.15.0 in /Library/Frameworks/Python.framework/Versions/3.11/lib/python3.11/site-packages (from isoduration->jsonschema[format-nongpl]>=4.18.0->jupyter-events>=0.11.0->jupyter-server<3,>=2.4.0->jupyterlab->jupyter->aif360[all]) (1.3.0)\n",
            "Requirement already satisfied: types-python-dateutil>=2.8.10 in /Library/Frameworks/Python.framework/Versions/3.11/lib/python3.11/site-packages (from arrow>=0.15.0->isoduration->jsonschema[format-nongpl]>=4.18.0->jupyter-events>=0.11.0->jupyter-server<3,>=2.4.0->jupyterlab->jupyter->aif360[all]) (2.9.0.20241206)\n"
          ]
        }
      ],
      "source": [
        "!pip install gower 'aif360[all]'"
      ]
    },
    {
      "cell_type": "markdown",
      "metadata": {
        "id": "8yzqS9S6saGv"
      },
      "source": [
        "You can skip this next cell. It is mainly used for development and deletes all the notebook's variables."
      ]
    },
    {
      "cell_type": "code",
      "execution_count": 3,
      "metadata": {
        "id": "lvIvKv-QsbtL"
      },
      "outputs": [
        {
          "name": "stdout",
          "output_type": "stream",
          "text": [
            "\u001b[m\u001b[?7h\u001b[4l\u001b>\u001b7\u001b[r\u001b[?1;3;4;6l\u001b8\u001bH        \u001bH        \u001bH        \u001bH        \u001bH        \u001bH        \u001bH\r"
          ]
        }
      ],
      "source": [
        "!reset"
      ]
    },
    {
      "cell_type": "markdown",
      "metadata": {
        "id": "qS65ik1tsfAX"
      },
      "source": [
        "Import packages and define functions to evaluate performance and indvidual fairness. Before you run the next cell, you'll need to put 'adult.data', 'adult.names' and 'adult.test' in '/usr/local/lib/python3.11/dist-packages/aif360/data/raw/adult'"
      ]
    },
    {
      "cell_type": "markdown",
      "metadata": {
        "id": "ty4rIe1Hsxbn"
      },
      "source": [
        "Define performance evaluation helper function."
      ]
    },
    {
      "cell_type": "code",
      "execution_count": 4,
      "metadata": {
        "colab": {
          "base_uri": "https://localhost:8080/"
        },
        "id": "5SPT7-NQsevH",
        "outputId": "093ce84b-ff1a-43a5-c1cb-fef2ce02034b"
      },
      "outputs": [
        {
          "name": "stderr",
          "output_type": "stream",
          "text": [
            "/Library/Frameworks/Python.framework/Versions/3.11/lib/python3.11/site-packages/inFairness/utils/ndcg.py:37: FutureWarning: We've integrated functorch into PyTorch. As the final step of the integration, `functorch.vmap` is deprecated as of PyTorch 2.0 and will be deleted in a future version of PyTorch >= 2.3. Please use `torch.vmap` instead; see the PyTorch 2.0 release notes and/or the `torch.func` migration guide for more details https://pytorch.org/docs/main/func.migrating.html\n",
            "  vect_normalized_discounted_cumulative_gain = vmap(\n",
            "/Library/Frameworks/Python.framework/Versions/3.11/lib/python3.11/site-packages/inFairness/utils/ndcg.py:48: FutureWarning: We've integrated functorch into PyTorch. As the final step of the integration, `functorch.vmap` is deprecated as of PyTorch 2.0 and will be deleted in a future version of PyTorch >= 2.3. Please use `torch.vmap` instead; see the PyTorch 2.0 release notes and/or the `torch.func` migration guide for more details https://pytorch.org/docs/main/func.migrating.html\n",
            "  monte_carlo_vect_ndcg = vmap(vect_normalized_discounted_cumulative_gain, in_dims=(0,))\n"
          ]
        }
      ],
      "source": [
        "from IPython.display import Markdown, display\n",
        "import numpy as np\n",
        "\n",
        "from sklearn.linear_model import LogisticRegression\n",
        "from sklearn.ensemble import RandomForestClassifier\n",
        "from sklearn.preprocessing import StandardScaler\n",
        "from sklearn.metrics import precision_score, accuracy_score, classification_report, recall_score, f1_score\n",
        "\n",
        "from aif360.algorithms.preprocessing import Reweighing\n",
        "from aif360.algorithms.preprocessing.optim_preproc_helpers.data_preproc_functions\\\n",
        "        import load_preproc_data_adult\n",
        "\n",
        "from group_fairness import eval_group_fairness\n",
        "\n",
        "def eval_performance(y_test, y_pred):\n",
        "    # Evaluate performance\n",
        "    accuracy = accuracy_score(y_test, y_pred)\n",
        "    precision = precision_score(y_test, y_pred)\n",
        "    recall = recall_score(y_test, y_pred)\n",
        "    f1 = f1_score(y_test, y_pred)\n",
        "\n",
        "    # Display metrics\n",
        "    print(f'Accuracy: {accuracy:.4f}')\n",
        "    print(f'Precision: {precision:.4f}')\n",
        "    print(f'Recall: {recall:.4f}')\n",
        "    print(f'F1 Score: {f1:.4f}')\n",
        "    print(\"\\nClassification Report:\\n\", classification_report(y_test, y_pred))"
      ]
    },
    {
      "cell_type": "markdown",
      "metadata": {
        "id": "uFh5HqBkszO3"
      },
      "source": [
        "Define individual fairness evaluation function."
      ]
    },
    {
      "cell_type": "code",
      "execution_count": 5,
      "metadata": {
        "id": "n2pdXpalsg7c"
      },
      "outputs": [],
      "source": [
        "from sklearn.neighbors import NearestNeighbors\n",
        "import gower\n",
        "\n",
        "def eval_ind_fairness(x_train, y_train, x_test, y_pred):\n",
        "  # Compute Gower distance matrix for test samples w.r.t training data\n",
        "  gower_distances = gower.gower_matrix(x_test, x_train)  # Shape: (num_test_samples, num_train_samples)\n",
        "\n",
        "  # Find k nearest neighbors (excluding self)\n",
        "  k = 5  # Adjust as needed\n",
        "  neighbors = np.argsort(gower_distances, axis=1)[:, 1:k+1]  # Get indices of k nearest neighbors\n",
        "\n",
        "  # Compute consistency score: Fraction of nearest neighbors with same prediction\n",
        "  consistencies = []\n",
        "  for i, neigh_indices in enumerate(neighbors):\n",
        "      neighbor_preds = y_train[neigh_indices]  # Get predictions of k neighbors from training labels\n",
        "      consistency = np.mean(neighbor_preds == y_pred[i])  # Fraction with same prediction\n",
        "      consistencies.append(consistency)\n",
        "\n",
        "  # Calculate overall consistency score\n",
        "  individual_fairness_score = np.mean(consistencies)\n",
        "  return individual_fairness_score"
      ]
    },
    {
      "cell_type": "markdown",
      "metadata": {
        "id": "xL4PKKWSs4KL"
      },
      "source": [
        "Define disparate impact evaluation function."
      ]
    },
    {
      "cell_type": "code",
      "execution_count": 6,
      "metadata": {
        "id": "YLjx-u3_s22W"
      },
      "outputs": [],
      "source": [
        "import pandas as pd\n",
        "\n",
        "def eval_disparate_impact(x_test_priv_col, y_pred, unpriv_group_val=0, favourable_outcome=1):\n",
        "  df = pd.DataFrame({\n",
        "      'privileged_attribute': x_test_priv_col,\n",
        "      'prediction': y_pred\n",
        "  })\n",
        "\n",
        "  # Calculate selection rates for protected and unprotected groups\n",
        "  unpriveleged_group = df[df['privileged_attribute'] == unpriv_group_val]\n",
        "  priveleged_group = df[df['privileged_attribute'] != unpriv_group_val]\n",
        "\n",
        "  unpriveleged_selection_rate = np.mean(unpriveleged_group['prediction'] == favourable_outcome)\n",
        "  priveleged_selection_rate = np.mean(priveleged_group['prediction'] == favourable_outcome)\n",
        "\n",
        "  # Calculate disparate impact\n",
        "  if priveleged_selection_rate == 0:\n",
        "      disparate_impact = float('inf') if unpriveleged_selection_rate > 0 else 1.0\n",
        "  else:\n",
        "      disparate_impact = unpriveleged_selection_rate / priveleged_selection_rate\n",
        "\n",
        "  return disparate_impact"
      ]
    },
    {
      "cell_type": "markdown",
      "metadata": {
        "id": "7iaUSSYks9fs"
      },
      "source": [
        "Define counterfactual fairness evaluation function."
      ]
    },
    {
      "cell_type": "code",
      "execution_count": 7,
      "metadata": {
        "id": "VNByaHf9tBGx"
      },
      "outputs": [],
      "source": [
        "def evaluate_counterfactual_fairness_sex(model, X):\n",
        "    \"\"\"\n",
        "    Evaluates counterfactual fairness by flipping the 'sex' attribute.\n",
        "    \"\"\"\n",
        "    # Store the original predictions on the test set\n",
        "    original_predictions = model.predict(StandardScaler().fit_transform(X))\n",
        "\n",
        "    # Create a copy of the dataset\n",
        "    X_counterfactual = X.copy()\n",
        "\n",
        "    # Flip 'sex' (0 -> 1, 1 -> 0)\n",
        "    if 'sex' in X.columns:\n",
        "        X_counterfactual['sex'] = 1 - X_counterfactual['sex']\n",
        "    else:\n",
        "        raise KeyError(f\"The sensitive attribute 'sex' is not present in the dataset.\")\n",
        "\n",
        "    # Get counterfactual predictions\n",
        "    counterfactual_predictions = model.predict(StandardScaler().fit_transform(X_counterfactual))\n",
        "\n",
        "    # Compare the original and counterfactual predictions\n",
        "    comparison = pd.DataFrame({\n",
        "        'original': original_predictions,\n",
        "        'counterfactual': counterfactual_predictions,\n",
        "        'same_decision': original_predictions == counterfactual_predictions\n",
        "    })\n",
        "\n",
        "    # Return the comparison dataframe\n",
        "    return comparison"
      ]
    },
    {
      "cell_type": "markdown",
      "metadata": {
        "id": "u22Nib7-s_d3"
      },
      "source": [
        "### Part 2: Load the Data"
      ]
    },
    {
      "cell_type": "code",
      "execution_count": 8,
      "metadata": {
        "colab": {
          "base_uri": "https://localhost:8080/"
        },
        "id": "IBqXUKOKtFBg",
        "outputId": "af6040b6-4065-47e5-b876-52370bad9d98"
      },
      "outputs": [
        {
          "name": "stderr",
          "output_type": "stream",
          "text": [
            "/Library/Frameworks/Python.framework/Versions/3.11/lib/python3.11/site-packages/aif360/algorithms/preprocessing/optim_preproc_helpers/data_preproc_functions.py:50: FutureWarning: Downcasting behavior in `replace` is deprecated and will be removed in a future version. To retain the old behavior, explicitly call `result.infer_objects(copy=False)`. To opt-in to the future behavior, set `pd.set_option('future.no_silent_downcasting', True)`\n",
            "  df['sex'] = df['sex'].replace({'Female': 0.0, 'Male': 1.0})\n"
          ]
        }
      ],
      "source": [
        "privileged_groups = [{'sex': 1}]\n",
        "unprivileged_groups = [{'sex': 0}]\n",
        "dataset_orig = load_preproc_data_adult(['sex'])\n",
        "\n",
        "np.random.seed(1)"
      ]
    },
    {
      "cell_type": "markdown",
      "metadata": {
        "id": "IHHfIYcntGdT"
      },
      "source": [
        "Split the data into training and test sets."
      ]
    },
    {
      "cell_type": "code",
      "execution_count": 9,
      "metadata": {
        "id": "M8fJE_v9tIcU"
      },
      "outputs": [],
      "source": [
        "dataset_orig_train, dataset_orig_test = dataset_orig.split([0.8], shuffle=True)"
      ]
    },
    {
      "cell_type": "markdown",
      "metadata": {
        "id": "WgBpMt70tLzD"
      },
      "source": [
        "### Part 3: Train and Evaluate the Baseline"
      ]
    },
    {
      "cell_type": "markdown",
      "metadata": {
        "id": "ZbwcML2utUKG"
      },
      "source": [
        "Not shown, refer to adult_reweighing.ipynb for baseline results."
      ]
    },
    {
      "cell_type": "markdown",
      "metadata": {
        "id": "uWc7hwpWtfMy"
      },
      "source": [
        "### Part 4: Train and Evaluate the Model Trained on Suppressed Dataset"
      ]
    },
    {
      "cell_type": "markdown",
      "metadata": {
        "id": "H_2r00pUt2Bs"
      },
      "source": [
        "Drop the protected attribute column."
      ]
    },
    {
      "cell_type": "code",
      "execution_count": 10,
      "metadata": {
        "id": "I9p_NHILtzmQ"
      },
      "outputs": [],
      "source": [
        "df_train_supp = dataset_orig_train.convert_to_dataframe()[0].drop('sex', axis=1).drop('Income Binary', axis=1)\n",
        "df_test_supp = dataset_orig_test.convert_to_dataframe()[0].drop('sex', axis=1).drop('Income Binary', axis=1)"
      ]
    },
    {
      "cell_type": "code",
      "execution_count": 11,
      "metadata": {
        "colab": {
          "base_uri": "https://localhost:8080/",
          "height": 80
        },
        "id": "BNTAQTiYvcHQ",
        "outputId": "f84a6924-070d-4f05-c9b7-e1040147a644"
      },
      "outputs": [
        {
          "data": {
            "text/html": [
              "<style>#sk-container-id-1 {\n",
              "  /* Definition of color scheme common for light and dark mode */\n",
              "  --sklearn-color-text: #000;\n",
              "  --sklearn-color-text-muted: #666;\n",
              "  --sklearn-color-line: gray;\n",
              "  /* Definition of color scheme for unfitted estimators */\n",
              "  --sklearn-color-unfitted-level-0: #fff5e6;\n",
              "  --sklearn-color-unfitted-level-1: #f6e4d2;\n",
              "  --sklearn-color-unfitted-level-2: #ffe0b3;\n",
              "  --sklearn-color-unfitted-level-3: chocolate;\n",
              "  /* Definition of color scheme for fitted estimators */\n",
              "  --sklearn-color-fitted-level-0: #f0f8ff;\n",
              "  --sklearn-color-fitted-level-1: #d4ebff;\n",
              "  --sklearn-color-fitted-level-2: #b3dbfd;\n",
              "  --sklearn-color-fitted-level-3: cornflowerblue;\n",
              "\n",
              "  /* Specific color for light theme */\n",
              "  --sklearn-color-text-on-default-background: var(--sg-text-color, var(--theme-code-foreground, var(--jp-content-font-color1, black)));\n",
              "  --sklearn-color-background: var(--sg-background-color, var(--theme-background, var(--jp-layout-color0, white)));\n",
              "  --sklearn-color-border-box: var(--sg-text-color, var(--theme-code-foreground, var(--jp-content-font-color1, black)));\n",
              "  --sklearn-color-icon: #696969;\n",
              "\n",
              "  @media (prefers-color-scheme: dark) {\n",
              "    /* Redefinition of color scheme for dark theme */\n",
              "    --sklearn-color-text-on-default-background: var(--sg-text-color, var(--theme-code-foreground, var(--jp-content-font-color1, white)));\n",
              "    --sklearn-color-background: var(--sg-background-color, var(--theme-background, var(--jp-layout-color0, #111)));\n",
              "    --sklearn-color-border-box: var(--sg-text-color, var(--theme-code-foreground, var(--jp-content-font-color1, white)));\n",
              "    --sklearn-color-icon: #878787;\n",
              "  }\n",
              "}\n",
              "\n",
              "#sk-container-id-1 {\n",
              "  color: var(--sklearn-color-text);\n",
              "}\n",
              "\n",
              "#sk-container-id-1 pre {\n",
              "  padding: 0;\n",
              "}\n",
              "\n",
              "#sk-container-id-1 input.sk-hidden--visually {\n",
              "  border: 0;\n",
              "  clip: rect(1px 1px 1px 1px);\n",
              "  clip: rect(1px, 1px, 1px, 1px);\n",
              "  height: 1px;\n",
              "  margin: -1px;\n",
              "  overflow: hidden;\n",
              "  padding: 0;\n",
              "  position: absolute;\n",
              "  width: 1px;\n",
              "}\n",
              "\n",
              "#sk-container-id-1 div.sk-dashed-wrapped {\n",
              "  border: 1px dashed var(--sklearn-color-line);\n",
              "  margin: 0 0.4em 0.5em 0.4em;\n",
              "  box-sizing: border-box;\n",
              "  padding-bottom: 0.4em;\n",
              "  background-color: var(--sklearn-color-background);\n",
              "}\n",
              "\n",
              "#sk-container-id-1 div.sk-container {\n",
              "  /* jupyter's `normalize.less` sets `[hidden] { display: none; }`\n",
              "     but bootstrap.min.css set `[hidden] { display: none !important; }`\n",
              "     so we also need the `!important` here to be able to override the\n",
              "     default hidden behavior on the sphinx rendered scikit-learn.org.\n",
              "     See: https://github.com/scikit-learn/scikit-learn/issues/21755 */\n",
              "  display: inline-block !important;\n",
              "  position: relative;\n",
              "}\n",
              "\n",
              "#sk-container-id-1 div.sk-text-repr-fallback {\n",
              "  display: none;\n",
              "}\n",
              "\n",
              "div.sk-parallel-item,\n",
              "div.sk-serial,\n",
              "div.sk-item {\n",
              "  /* draw centered vertical line to link estimators */\n",
              "  background-image: linear-gradient(var(--sklearn-color-text-on-default-background), var(--sklearn-color-text-on-default-background));\n",
              "  background-size: 2px 100%;\n",
              "  background-repeat: no-repeat;\n",
              "  background-position: center center;\n",
              "}\n",
              "\n",
              "/* Parallel-specific style estimator block */\n",
              "\n",
              "#sk-container-id-1 div.sk-parallel-item::after {\n",
              "  content: \"\";\n",
              "  width: 100%;\n",
              "  border-bottom: 2px solid var(--sklearn-color-text-on-default-background);\n",
              "  flex-grow: 1;\n",
              "}\n",
              "\n",
              "#sk-container-id-1 div.sk-parallel {\n",
              "  display: flex;\n",
              "  align-items: stretch;\n",
              "  justify-content: center;\n",
              "  background-color: var(--sklearn-color-background);\n",
              "  position: relative;\n",
              "}\n",
              "\n",
              "#sk-container-id-1 div.sk-parallel-item {\n",
              "  display: flex;\n",
              "  flex-direction: column;\n",
              "}\n",
              "\n",
              "#sk-container-id-1 div.sk-parallel-item:first-child::after {\n",
              "  align-self: flex-end;\n",
              "  width: 50%;\n",
              "}\n",
              "\n",
              "#sk-container-id-1 div.sk-parallel-item:last-child::after {\n",
              "  align-self: flex-start;\n",
              "  width: 50%;\n",
              "}\n",
              "\n",
              "#sk-container-id-1 div.sk-parallel-item:only-child::after {\n",
              "  width: 0;\n",
              "}\n",
              "\n",
              "/* Serial-specific style estimator block */\n",
              "\n",
              "#sk-container-id-1 div.sk-serial {\n",
              "  display: flex;\n",
              "  flex-direction: column;\n",
              "  align-items: center;\n",
              "  background-color: var(--sklearn-color-background);\n",
              "  padding-right: 1em;\n",
              "  padding-left: 1em;\n",
              "}\n",
              "\n",
              "\n",
              "/* Toggleable style: style used for estimator/Pipeline/ColumnTransformer box that is\n",
              "clickable and can be expanded/collapsed.\n",
              "- Pipeline and ColumnTransformer use this feature and define the default style\n",
              "- Estimators will overwrite some part of the style using the `sk-estimator` class\n",
              "*/\n",
              "\n",
              "/* Pipeline and ColumnTransformer style (default) */\n",
              "\n",
              "#sk-container-id-1 div.sk-toggleable {\n",
              "  /* Default theme specific background. It is overwritten whether we have a\n",
              "  specific estimator or a Pipeline/ColumnTransformer */\n",
              "  background-color: var(--sklearn-color-background);\n",
              "}\n",
              "\n",
              "/* Toggleable label */\n",
              "#sk-container-id-1 label.sk-toggleable__label {\n",
              "  cursor: pointer;\n",
              "  display: flex;\n",
              "  width: 100%;\n",
              "  margin-bottom: 0;\n",
              "  padding: 0.5em;\n",
              "  box-sizing: border-box;\n",
              "  text-align: center;\n",
              "  align-items: start;\n",
              "  justify-content: space-between;\n",
              "  gap: 0.5em;\n",
              "}\n",
              "\n",
              "#sk-container-id-1 label.sk-toggleable__label .caption {\n",
              "  font-size: 0.6rem;\n",
              "  font-weight: lighter;\n",
              "  color: var(--sklearn-color-text-muted);\n",
              "}\n",
              "\n",
              "#sk-container-id-1 label.sk-toggleable__label-arrow:before {\n",
              "  /* Arrow on the left of the label */\n",
              "  content: \"▸\";\n",
              "  float: left;\n",
              "  margin-right: 0.25em;\n",
              "  color: var(--sklearn-color-icon);\n",
              "}\n",
              "\n",
              "#sk-container-id-1 label.sk-toggleable__label-arrow:hover:before {\n",
              "  color: var(--sklearn-color-text);\n",
              "}\n",
              "\n",
              "/* Toggleable content - dropdown */\n",
              "\n",
              "#sk-container-id-1 div.sk-toggleable__content {\n",
              "  max-height: 0;\n",
              "  max-width: 0;\n",
              "  overflow: hidden;\n",
              "  text-align: left;\n",
              "  /* unfitted */\n",
              "  background-color: var(--sklearn-color-unfitted-level-0);\n",
              "}\n",
              "\n",
              "#sk-container-id-1 div.sk-toggleable__content.fitted {\n",
              "  /* fitted */\n",
              "  background-color: var(--sklearn-color-fitted-level-0);\n",
              "}\n",
              "\n",
              "#sk-container-id-1 div.sk-toggleable__content pre {\n",
              "  margin: 0.2em;\n",
              "  border-radius: 0.25em;\n",
              "  color: var(--sklearn-color-text);\n",
              "  /* unfitted */\n",
              "  background-color: var(--sklearn-color-unfitted-level-0);\n",
              "}\n",
              "\n",
              "#sk-container-id-1 div.sk-toggleable__content.fitted pre {\n",
              "  /* unfitted */\n",
              "  background-color: var(--sklearn-color-fitted-level-0);\n",
              "}\n",
              "\n",
              "#sk-container-id-1 input.sk-toggleable__control:checked~div.sk-toggleable__content {\n",
              "  /* Expand drop-down */\n",
              "  max-height: 200px;\n",
              "  max-width: 100%;\n",
              "  overflow: auto;\n",
              "}\n",
              "\n",
              "#sk-container-id-1 input.sk-toggleable__control:checked~label.sk-toggleable__label-arrow:before {\n",
              "  content: \"▾\";\n",
              "}\n",
              "\n",
              "/* Pipeline/ColumnTransformer-specific style */\n",
              "\n",
              "#sk-container-id-1 div.sk-label input.sk-toggleable__control:checked~label.sk-toggleable__label {\n",
              "  color: var(--sklearn-color-text);\n",
              "  background-color: var(--sklearn-color-unfitted-level-2);\n",
              "}\n",
              "\n",
              "#sk-container-id-1 div.sk-label.fitted input.sk-toggleable__control:checked~label.sk-toggleable__label {\n",
              "  background-color: var(--sklearn-color-fitted-level-2);\n",
              "}\n",
              "\n",
              "/* Estimator-specific style */\n",
              "\n",
              "/* Colorize estimator box */\n",
              "#sk-container-id-1 div.sk-estimator input.sk-toggleable__control:checked~label.sk-toggleable__label {\n",
              "  /* unfitted */\n",
              "  background-color: var(--sklearn-color-unfitted-level-2);\n",
              "}\n",
              "\n",
              "#sk-container-id-1 div.sk-estimator.fitted input.sk-toggleable__control:checked~label.sk-toggleable__label {\n",
              "  /* fitted */\n",
              "  background-color: var(--sklearn-color-fitted-level-2);\n",
              "}\n",
              "\n",
              "#sk-container-id-1 div.sk-label label.sk-toggleable__label,\n",
              "#sk-container-id-1 div.sk-label label {\n",
              "  /* The background is the default theme color */\n",
              "  color: var(--sklearn-color-text-on-default-background);\n",
              "}\n",
              "\n",
              "/* On hover, darken the color of the background */\n",
              "#sk-container-id-1 div.sk-label:hover label.sk-toggleable__label {\n",
              "  color: var(--sklearn-color-text);\n",
              "  background-color: var(--sklearn-color-unfitted-level-2);\n",
              "}\n",
              "\n",
              "/* Label box, darken color on hover, fitted */\n",
              "#sk-container-id-1 div.sk-label.fitted:hover label.sk-toggleable__label.fitted {\n",
              "  color: var(--sklearn-color-text);\n",
              "  background-color: var(--sklearn-color-fitted-level-2);\n",
              "}\n",
              "\n",
              "/* Estimator label */\n",
              "\n",
              "#sk-container-id-1 div.sk-label label {\n",
              "  font-family: monospace;\n",
              "  font-weight: bold;\n",
              "  display: inline-block;\n",
              "  line-height: 1.2em;\n",
              "}\n",
              "\n",
              "#sk-container-id-1 div.sk-label-container {\n",
              "  text-align: center;\n",
              "}\n",
              "\n",
              "/* Estimator-specific */\n",
              "#sk-container-id-1 div.sk-estimator {\n",
              "  font-family: monospace;\n",
              "  border: 1px dotted var(--sklearn-color-border-box);\n",
              "  border-radius: 0.25em;\n",
              "  box-sizing: border-box;\n",
              "  margin-bottom: 0.5em;\n",
              "  /* unfitted */\n",
              "  background-color: var(--sklearn-color-unfitted-level-0);\n",
              "}\n",
              "\n",
              "#sk-container-id-1 div.sk-estimator.fitted {\n",
              "  /* fitted */\n",
              "  background-color: var(--sklearn-color-fitted-level-0);\n",
              "}\n",
              "\n",
              "/* on hover */\n",
              "#sk-container-id-1 div.sk-estimator:hover {\n",
              "  /* unfitted */\n",
              "  background-color: var(--sklearn-color-unfitted-level-2);\n",
              "}\n",
              "\n",
              "#sk-container-id-1 div.sk-estimator.fitted:hover {\n",
              "  /* fitted */\n",
              "  background-color: var(--sklearn-color-fitted-level-2);\n",
              "}\n",
              "\n",
              "/* Specification for estimator info (e.g. \"i\" and \"?\") */\n",
              "\n",
              "/* Common style for \"i\" and \"?\" */\n",
              "\n",
              ".sk-estimator-doc-link,\n",
              "a:link.sk-estimator-doc-link,\n",
              "a:visited.sk-estimator-doc-link {\n",
              "  float: right;\n",
              "  font-size: smaller;\n",
              "  line-height: 1em;\n",
              "  font-family: monospace;\n",
              "  background-color: var(--sklearn-color-background);\n",
              "  border-radius: 1em;\n",
              "  height: 1em;\n",
              "  width: 1em;\n",
              "  text-decoration: none !important;\n",
              "  margin-left: 0.5em;\n",
              "  text-align: center;\n",
              "  /* unfitted */\n",
              "  border: var(--sklearn-color-unfitted-level-1) 1pt solid;\n",
              "  color: var(--sklearn-color-unfitted-level-1);\n",
              "}\n",
              "\n",
              ".sk-estimator-doc-link.fitted,\n",
              "a:link.sk-estimator-doc-link.fitted,\n",
              "a:visited.sk-estimator-doc-link.fitted {\n",
              "  /* fitted */\n",
              "  border: var(--sklearn-color-fitted-level-1) 1pt solid;\n",
              "  color: var(--sklearn-color-fitted-level-1);\n",
              "}\n",
              "\n",
              "/* On hover */\n",
              "div.sk-estimator:hover .sk-estimator-doc-link:hover,\n",
              ".sk-estimator-doc-link:hover,\n",
              "div.sk-label-container:hover .sk-estimator-doc-link:hover,\n",
              ".sk-estimator-doc-link:hover {\n",
              "  /* unfitted */\n",
              "  background-color: var(--sklearn-color-unfitted-level-3);\n",
              "  color: var(--sklearn-color-background);\n",
              "  text-decoration: none;\n",
              "}\n",
              "\n",
              "div.sk-estimator.fitted:hover .sk-estimator-doc-link.fitted:hover,\n",
              ".sk-estimator-doc-link.fitted:hover,\n",
              "div.sk-label-container:hover .sk-estimator-doc-link.fitted:hover,\n",
              ".sk-estimator-doc-link.fitted:hover {\n",
              "  /* fitted */\n",
              "  background-color: var(--sklearn-color-fitted-level-3);\n",
              "  color: var(--sklearn-color-background);\n",
              "  text-decoration: none;\n",
              "}\n",
              "\n",
              "/* Span, style for the box shown on hovering the info icon */\n",
              ".sk-estimator-doc-link span {\n",
              "  display: none;\n",
              "  z-index: 9999;\n",
              "  position: relative;\n",
              "  font-weight: normal;\n",
              "  right: .2ex;\n",
              "  padding: .5ex;\n",
              "  margin: .5ex;\n",
              "  width: min-content;\n",
              "  min-width: 20ex;\n",
              "  max-width: 50ex;\n",
              "  color: var(--sklearn-color-text);\n",
              "  box-shadow: 2pt 2pt 4pt #999;\n",
              "  /* unfitted */\n",
              "  background: var(--sklearn-color-unfitted-level-0);\n",
              "  border: .5pt solid var(--sklearn-color-unfitted-level-3);\n",
              "}\n",
              "\n",
              ".sk-estimator-doc-link.fitted span {\n",
              "  /* fitted */\n",
              "  background: var(--sklearn-color-fitted-level-0);\n",
              "  border: var(--sklearn-color-fitted-level-3);\n",
              "}\n",
              "\n",
              ".sk-estimator-doc-link:hover span {\n",
              "  display: block;\n",
              "}\n",
              "\n",
              "/* \"?\"-specific style due to the `<a>` HTML tag */\n",
              "\n",
              "#sk-container-id-1 a.estimator_doc_link {\n",
              "  float: right;\n",
              "  font-size: 1rem;\n",
              "  line-height: 1em;\n",
              "  font-family: monospace;\n",
              "  background-color: var(--sklearn-color-background);\n",
              "  border-radius: 1rem;\n",
              "  height: 1rem;\n",
              "  width: 1rem;\n",
              "  text-decoration: none;\n",
              "  /* unfitted */\n",
              "  color: var(--sklearn-color-unfitted-level-1);\n",
              "  border: var(--sklearn-color-unfitted-level-1) 1pt solid;\n",
              "}\n",
              "\n",
              "#sk-container-id-1 a.estimator_doc_link.fitted {\n",
              "  /* fitted */\n",
              "  border: var(--sklearn-color-fitted-level-1) 1pt solid;\n",
              "  color: var(--sklearn-color-fitted-level-1);\n",
              "}\n",
              "\n",
              "/* On hover */\n",
              "#sk-container-id-1 a.estimator_doc_link:hover {\n",
              "  /* unfitted */\n",
              "  background-color: var(--sklearn-color-unfitted-level-3);\n",
              "  color: var(--sklearn-color-background);\n",
              "  text-decoration: none;\n",
              "}\n",
              "\n",
              "#sk-container-id-1 a.estimator_doc_link.fitted:hover {\n",
              "  /* fitted */\n",
              "  background-color: var(--sklearn-color-fitted-level-3);\n",
              "}\n",
              "</style><div id=\"sk-container-id-1\" class=\"sk-top-container\"><div class=\"sk-text-repr-fallback\"><pre>LogisticRegression()</pre><b>In a Jupyter environment, please rerun this cell to show the HTML representation or trust the notebook. <br />On GitHub, the HTML representation is unable to render, please try loading this page with nbviewer.org.</b></div><div class=\"sk-container\" hidden><div class=\"sk-item\"><div class=\"sk-estimator fitted sk-toggleable\"><input class=\"sk-toggleable__control sk-hidden--visually\" id=\"sk-estimator-id-1\" type=\"checkbox\" checked><label for=\"sk-estimator-id-1\" class=\"sk-toggleable__label fitted sk-toggleable__label-arrow\"><div><div>LogisticRegression</div></div><div><a class=\"sk-estimator-doc-link fitted\" rel=\"noreferrer\" target=\"_blank\" href=\"https://scikit-learn.org/1.6/modules/generated/sklearn.linear_model.LogisticRegression.html\">?<span>Documentation for LogisticRegression</span></a><span class=\"sk-estimator-doc-link fitted\">i<span>Fitted</span></span></div></label><div class=\"sk-toggleable__content fitted\"><pre>LogisticRegression()</pre></div> </div></div></div></div>"
            ],
            "text/plain": [
              "LogisticRegression()"
            ]
          },
          "execution_count": 11,
          "metadata": {},
          "output_type": "execute_result"
        }
      ],
      "source": [
        "scale_orig = StandardScaler()\n",
        "x_train_supp = scale_orig.fit_transform(df_train_supp)\n",
        "y_train_supp = dataset_orig_train.labels.ravel()\n",
        "w_train_supp = dataset_orig_train.instance_weights.ravel()\n",
        "\n",
        "lmod_supp = LogisticRegression()\n",
        "lmod_supp.fit(x_train_supp,\n",
        "              y_train_supp,\n",
        "              sample_weight=dataset_orig_train.instance_weights)"
      ]
    },
    {
      "cell_type": "code",
      "execution_count": 12,
      "metadata": {
        "id": "ITy4tAPNvnDh"
      },
      "outputs": [],
      "source": [
        "x_test = scale_orig.fit_transform(df_test_supp)\n",
        "y_test = dataset_orig_test.labels.ravel()\n",
        "\n",
        "y_pred_supp = lmod_supp.predict(x_test)"
      ]
    },
    {
      "cell_type": "code",
      "execution_count": 13,
      "metadata": {
        "colab": {
          "base_uri": "https://localhost:8080/"
        },
        "id": "np26-NSGvxAE",
        "outputId": "8076c043-c4ea-4e81-bed1-050cd8a7fee2"
      },
      "outputs": [
        {
          "name": "stdout",
          "output_type": "stream",
          "text": [
            "Accuracy: 0.7912\n",
            "Precision: 0.5838\n",
            "Recall: 0.4282\n",
            "F1 Score: 0.4940\n",
            "\n",
            "Classification Report:\n",
            "               precision    recall  f1-score   support\n",
            "\n",
            "         0.0       0.84      0.90      0.87      7443\n",
            "         1.0       0.58      0.43      0.49      2326\n",
            "\n",
            "    accuracy                           0.79      9769\n",
            "   macro avg       0.71      0.67      0.68      9769\n",
            "weighted avg       0.78      0.79      0.78      9769\n",
            "\n"
          ]
        }
      ],
      "source": [
        "# Evaluate performance of model trained on suppressed dataset\n",
        "eval_performance(y_test, y_pred_supp)"
      ]
    },
    {
      "cell_type": "code",
      "execution_count": 14,
      "metadata": {
        "colab": {
          "base_uri": "https://localhost:8080/"
        },
        "id": "HKF1lYziwbUA",
        "outputId": "2534809c-ea0a-4a5a-ecd5-9978339cfdff"
      },
      "outputs": [
        {
          "name": "stdout",
          "output_type": "stream",
          "text": [
            "Disparate Impact Score: 0.6496\n"
          ]
        }
      ],
      "source": [
        "x_test_df = dataset_orig_test.convert_to_dataframe()[0]\n",
        "disparate_impact = eval_disparate_impact(x_test_df['sex'], y_pred_supp)\n",
        "print(f'Disparate Impact Score: {disparate_impact:.4f}')"
      ]
    },
    {
      "cell_type": "markdown",
      "metadata": {
        "id": "02T2KUeCyUer"
      },
      "source": []
    },
    {
      "cell_type": "code",
      "execution_count": 15,
      "metadata": {
        "colab": {
          "base_uri": "https://localhost:8080/"
        },
        "id": "MEsXWqzdwt0f",
        "outputId": "dac119a9-6662-4eaa-da7e-34a92a241c74"
      },
      "outputs": [
        {
          "name": "stdout",
          "output_type": "stream",
          "text": [
            "Individual Fairness Consistency Score: 0.8028\n"
          ]
        }
      ],
      "source": [
        "individual_fairness_score = eval_ind_fairness(x_train_supp, y_train_supp, x_test, y_pred_supp)\n",
        "print(f'Individual Fairness Consistency Score: {individual_fairness_score:.4f}')"
      ]
    },
    {
      "cell_type": "code",
      "execution_count": 18,
      "metadata": {},
      "outputs": [
        {
          "name": "stdout",
          "output_type": "stream",
          "text": [
            "\n",
            "⚖️ Model Group Fairness Metrics (Suppression):\n",
            "Statistical Parity Difference: -0.0694\n",
            "Disparate Impact: 0.6496\n",
            "Demographic Parity: -0.0694\n"
          ]
        }
      ],
      "source": [
        "# Model-level group fairness (reattach 'sex' to suppressed test set)\n",
        "X_test_eval = df_test_supp.copy()  # suppressed features\n",
        "X_test_eval['sex'] = x_test_df['sex']  # reattach 'sex'\n",
        "supp_model_group_fairness = eval_group_fairness(\n",
        "    X_test_eval, target='Income Binary', protected_attr='sex', mode='model', y_pred=y_pred_supp\n",
        ")\n",
        "print(\"\\n⚖️ Model Group Fairness Metrics (Suppression):\")\n",
        "for metric, value in supp_model_group_fairness.items():\n",
        "    print(f\"{metric}: {value:.4f}\")"
      ]
    },
    {
      "cell_type": "markdown",
      "metadata": {
        "id": "HHIGQRhwyHzO"
      },
      "source": [
        "Counterfactual fairness is not applicable since we dropped the 'sex' attribute."
      ]
    }
  ],
  "metadata": {
    "colab": {
      "authorship_tag": "ABX9TyOjpcWwJAtfSweyA+qeZvYM",
      "include_colab_link": true,
      "provenance": []
    },
    "kernelspec": {
      "display_name": "Python 3",
      "name": "python3"
    },
    "language_info": {
      "codemirror_mode": {
        "name": "ipython",
        "version": 3
      },
      "file_extension": ".py",
      "mimetype": "text/x-python",
      "name": "python",
      "nbconvert_exporter": "python",
      "pygments_lexer": "ipython3",
      "version": "3.11.6"
    }
  },
  "nbformat": 4,
  "nbformat_minor": 0
}
